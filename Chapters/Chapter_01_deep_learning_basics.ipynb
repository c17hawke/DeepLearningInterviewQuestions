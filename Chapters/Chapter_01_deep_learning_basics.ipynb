{
 "cells": [
  {
   "cell_type": "markdown",
   "id": "68ea0b5f",
   "metadata": {},
   "source": [
    "# 1. What makes deep learning different then ML?\n",
    "\n",
    "Ans.\n",
    "DL suitable for \n",
    "1. Dimension of data is high.\n",
    "2. Unstructured data like images, audio, video, text files.\n",
    "3. Structured data as well can be handled with DL.\n",
    "4. Domain - Computer Vision, Survaillance, Chatbots, text analysis\n",
    "\n",
    "ML suitable for\n",
    "1. Dimesion is not that high.\n",
    "2. Structured data like CSV, XLsx, SQL databases.\n",
    "3. Light weight models and fast.\n",
    "4. Retail, Finance, etc."
   ]
  },
  {
   "cell_type": "markdown",
   "id": "ca3a4e1f",
   "metadata": {},
   "source": [
    "## 2. What is Perceptron?\n",
    "\n",
    "Ans. Its a single Neuron (More detailed ans in notes)"
   ]
  },
  {
   "cell_type": "markdown",
   "id": "393d0f33",
   "metadata": {},
   "source": [
    "## 3. What is Multilayer Perceptron?"
   ]
  },
  {
   "cell_type": "markdown",
   "id": "656cbd03",
   "metadata": {},
   "source": [
    "## 4. What is activation function and why it is required?\n"
   ]
  },
  {
   "cell_type": "markdown",
   "id": "99e88675",
   "metadata": {},
   "source": [
    "## 5. What is Vanishing and Exploding GRadient?"
   ]
  },
  {
   "cell_type": "code",
   "execution_count": null,
   "id": "c508d735",
   "metadata": {},
   "outputs": [],
   "source": [
    "## 6. How to solve Vanishin and exploging problem?\n",
    "\n",
    "Ans. informed choice of Activation function and Weight initilization techinques"
   ]
  }
 ],
 "metadata": {
  "kernelspec": {
   "display_name": "Python 3 (ipykernel)",
   "language": "python",
   "name": "python3"
  },
  "language_info": {
   "codemirror_mode": {
    "name": "ipython",
    "version": 3
   },
   "file_extension": ".py",
   "mimetype": "text/x-python",
   "name": "python",
   "nbconvert_exporter": "python",
   "pygments_lexer": "ipython3",
   "version": "3.9.12"
  }
 },
 "nbformat": 4,
 "nbformat_minor": 5
}
